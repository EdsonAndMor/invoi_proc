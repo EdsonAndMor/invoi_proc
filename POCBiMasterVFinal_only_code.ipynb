{
  "nbformat": 4,
  "nbformat_minor": 0,
  "metadata": {
    "colab": {
      "name": "POCBiMasterVFinal_only_code.ipynb",
      "provenance": [],
      "collapsed_sections": []
    },
    "kernelspec": {
      "display_name": "Python 3",
      "name": "python3"
    },
    "language_info": {
      "name": "python"
    }
  },
  "cells": [
    {
      "cell_type": "code",
      "metadata": {
        "id": "aB9HWVvELSsc"
      },
      "source": [
        "  !apt-get install poppler-utils\n"
      ],
      "execution_count": null,
      "outputs": []
    },
    {
      "cell_type": "code",
      "metadata": {
        "id": "ZeYrFqtJLlme"
      },
      "source": [
        "!pip install pdf2image"
      ],
      "execution_count": null,
      "outputs": []
    },
    {
      "cell_type": "code",
      "metadata": {
        "id": "VLAVXEg6Lure"
      },
      "source": [
        "!pip install easyocr"
      ],
      "execution_count": null,
      "outputs": []
    },
    {
      "cell_type": "code",
      "metadata": {
        "id": "2lK1JQkUPFLo"
      },
      "source": [
        "!pip install opencv-python"
      ],
      "execution_count": null,
      "outputs": []
    },
    {
      "cell_type": "code",
      "metadata": {
        "id": "cWs0cvS3PKYy"
      },
      "source": [
        "!pip install xlsxwriter"
      ],
      "execution_count": null,
      "outputs": []
    },
    {
      "cell_type": "code",
      "metadata": {
        "id": "kPucNJ9tZnL5"
      },
      "source": [
        "#O nltk ja está no collab, mas o nltk_contrib não \n",
        "!pip install nltk\n"
      ],
      "execution_count": null,
      "outputs": []
    },
    {
      "cell_type": "code",
      "metadata": {
        "id": "bHaX8s_CzoMc"
      },
      "source": [
        "!pip install spacy"
      ],
      "execution_count": null,
      "outputs": []
    },
    {
      "cell_type": "code",
      "metadata": {
        "id": "p7uJEE-9MaaI"
      },
      "source": [
        "from pdf2image import convert_from_path\n",
        "import easyocr\n",
        "import numpy as np\n",
        "import PIL\n",
        "from PIL import ImageDraw\n",
        "import pandas as pd"
      ],
      "execution_count": null,
      "outputs": []
    },
    {
      "cell_type": "code",
      "metadata": {
        "id": "ENnsQX2KZ4nh"
      },
      "source": [
        "import nltk\n",
        "nltk.download('punkt')\n",
        "nltk.download('averaged_perceptron_tagger')\n",
        "nltk.download('maxent_ne_chunker')\n",
        "nltk.download('words')\n",
        "nltk.download('treebank')"
      ],
      "execution_count": null,
      "outputs": []
    },
    {
      "cell_type": "code",
      "metadata": {
        "id": "g7TbE6ZxzvUh"
      },
      "source": [
        "import spacy"
      ],
      "execution_count": null,
      "outputs": []
    },
    {
      "cell_type": "code",
      "metadata": {
        "id": "OtoR9PX4zhN-"
      },
      "source": [
        "import spacy"
      ],
      "execution_count": null,
      "outputs": []
    },
    {
      "cell_type": "code",
      "metadata": {
        "id": "AFdqoPbJQoA8"
      },
      "source": [
        "import csv\n",
        "try:\n",
        "    from PIL import Image\n",
        "except ImportError:\n",
        "    import Image"
      ],
      "execution_count": null,
      "outputs": []
    },
    {
      "cell_type": "code",
      "metadata": {
        "id": "SdHAVAOma95B"
      },
      "source": [
        "import cv2\n",
        "import matplotlib.pyplot as plt"
      ],
      "execution_count": null,
      "outputs": []
    },
    {
      "cell_type": "code",
      "metadata": {
        "id": "8VzpXxNBM-0U"
      },
      "source": [
        "import os\n",
        "import string\n",
        "from google.colab import drive"
      ],
      "execution_count": null,
      "outputs": []
    },
    {
      "cell_type": "code",
      "metadata": {
        "id": "3DCxvaUnM-6o"
      },
      "source": [
        "from google.colab import drive\n",
        "\n",
        "workdir_path = \"/content/drive/My Drive/POC\"\n",
        "\n",
        "drive.mount('/content/drive')\n",
        "\n",
        "\n",
        "os.chdir(workdir_path)"
      ],
      "execution_count": null,
      "outputs": []
    },
    {
      "cell_type": "code",
      "metadata": {
        "id": "WfAHkhGdNz_a"
      },
      "source": [
        "reader = easyocr.Reader(['en','la'])\n"
      ],
      "execution_count": null,
      "outputs": []
    },
    {
      "cell_type": "code",
      "metadata": {
        "id": "LQgqgBOdwOtR"
      },
      "source": [
        "pdf_invoice_name = 'Modelo Invoice Petrobras.pdf'\n",
        "variant_name = 'a2_'"
      ],
      "execution_count": null,
      "outputs": []
    },
    {
      "cell_type": "code",
      "metadata": {
        "id": "O_q9NF4Ls8BP"
      },
      "source": [
        "invoices = convert_from_path(pdf_invoice_name)"
      ],
      "execution_count": null,
      "outputs": []
    },
    {
      "cell_type": "code",
      "metadata": {
        "id": "VOBHzPP7OhOf"
      },
      "source": [
        "from IPython.display import display, Image"
      ],
      "execution_count": null,
      "outputs": []
    },
    {
      "cell_type": "code",
      "metadata": {
        "id": "CnYY-0h9f4De"
      },
      "source": [
        "display(invoices[0])"
      ],
      "execution_count": null,
      "outputs": []
    },
    {
      "cell_type": "code",
      "metadata": {
        "id": "pgf6Rqutf5qu"
      },
      "source": [
        "#Salvando a imagem da invoice original\n",
        "invoices[0].save(variant_name + \"img_invoice.jpg\")"
      ],
      "execution_count": null,
      "outputs": []
    },
    {
      "cell_type": "code",
      "metadata": {
        "id": "4AZqevhPgLqX"
      },
      "source": [
        "bounds = reader.readtext(np.array(invoices[0]),min_size=0,slope_ths=0.2,ycenter_ths=0.7,height_ths=0.6,width_ths=0.8,decoder='beamsearch',beamWidth=10)\n",
        "bounds"
      ],
      "execution_count": null,
      "outputs": []
    },
    {
      "cell_type": "code",
      "metadata": {
        "id": "WHvJS0ZmgXUf"
      },
      "source": [
        "def draw_boxes(image, bounds, color='yellow',width=3,contador=0):\n",
        "  draw = ImageDraw.Draw(image)\n",
        "  for bound in bounds:\n",
        "    p0, p1, p2, p3 = bound[0]\n",
        "    draw.line([*p0, *p1, *p2, *p3, *p0], fill = color, width = width)  \n",
        "  return image\n",
        "\n",
        "draw_boxes(invoices[0],bounds,color='yellow')"
      ],
      "execution_count": null,
      "outputs": []
    },
    {
      "cell_type": "code",
      "metadata": {
        "id": "S2-9w3aFBoke"
      },
      "source": [
        "invoices[0].save(variant_name + \"img_invoice.jpg\")"
      ],
      "execution_count": null,
      "outputs": []
    },
    {
      "cell_type": "code",
      "metadata": {
        "id": "qKSwhxVegb8L"
      },
      "source": [
        "#Vamos criar uma imagem do zero e aplicar os textos sobre esta imagem \n",
        "\n",
        "from PIL import Image\n",
        "\n",
        "img_only_texts = Image.new(invoices[0].mode, invoices[0].size,color = 'white')\n",
        "\n",
        "img_only_texts"
      ],
      "execution_count": null,
      "outputs": []
    },
    {
      "cell_type": "code",
      "metadata": {
        "id": "24FpNGwC9jkK"
      },
      "source": [
        "# vamos o ler pdf de novo para garantir uma magem limpa da invoice sem as caixa amarelas geradas anteriormente, para termos apenas o texto.\n",
        "invoices = convert_from_path(pdf_invoice_name)"
      ],
      "execution_count": null,
      "outputs": []
    },
    {
      "cell_type": "code",
      "metadata": {
        "id": "ajcHZm3FtdGj"
      },
      "source": [
        "\n",
        "def copy_text_boxes(image,blank_image, bounds):\n",
        " for bound in bounds:\n",
        "    p0, p1, p2, p3 = bound[0]\n",
        "    region = image.crop((p0[0], p0[1], p2[0], p2[1] ))\n",
        "    blank_image.paste(region,box= (p0[0], p0[1], p2[0], p2[1] ))\n",
        " return blank_image\n",
        "\n",
        "copy_text_boxes(invoices[0],img_only_texts,bounds)"
      ],
      "execution_count": null,
      "outputs": []
    },
    {
      "cell_type": "code",
      "metadata": {
        "id": "XX3WqG9cl04i"
      },
      "source": [
        "img_only_texts.save(variant_name + \"img_only_texts.jpg\") "
      ],
      "execution_count": null,
      "outputs": []
    },
    {
      "cell_type": "code",
      "metadata": {
        "id": "s-vz6ac5HHSh"
      },
      "source": [
        "#importando a imagem da invoice somente com os textos para o formato da biblioteca opencv onde iremos trabalhar o uso de detecção morfológica\n",
        "\n",
        "img = cv2.imread(variant_name + \"img_only_texts.jpg\")"
      ],
      "execution_count": null,
      "outputs": []
    },
    {
      "cell_type": "code",
      "metadata": {
        "id": "MNR5AHL8i5Pk"
      },
      "source": [
        "\n",
        "# limpa as cores\n",
        "pre = cv2.cvtColor(img, cv2.COLOR_BGR2GRAY)\n",
        "\n",
        "plt.figure(figsize = (500,50))\n",
        "plotting = plt.imshow(pre)\n",
        "plt.show()"
      ],
      "execution_count": null,
      "outputs": []
    },
    {
      "cell_type": "code",
      "metadata": {
        "id": "1FwXaqeKJ4Ba"
      },
      "source": [
        "\n",
        "# Otsu threshold\n",
        "pre = cv2.threshold(pre, 250, 255, cv2.THRESH_BINARY | cv2.THRESH_OTSU)[1]\n",
        "\n",
        "# dilatar a imagem para transfromar os textos em um bloco sólido.\n",
        "cpy = pre.copy()\n",
        "morph_size=(6, 6)\n",
        "struct = cv2.getStructuringElement(cv2.MORPH_RECT, morph_size)\n",
        "cpy = cv2.dilate(~cpy, struct, anchor=(-1, -1), iterations=2)\n",
        "#vamos erodir para tentar chegar a um imagem mais precisa\n",
        "cpy = cv2.erode(~cpy, struct, anchor=(-1, -1), iterations=1)\n",
        "\n",
        "pre = ~cpy\n",
        "\n",
        "pre = 255-pre\n",
        "\n",
        "plt.figure(figsize = (500,50))\n",
        "plotting = plt.imshow(pre)\n",
        "plt.show()\n",
        "\n"
      ],
      "execution_count": null,
      "outputs": []
    },
    {
      "cell_type": "code",
      "metadata": {
        "id": "IOBZwIGMYURm"
      },
      "source": [
        "#vasmo encontrar as caixas\n",
        "min_text_height_limit=50\n",
        "max_text_height_limit=600\n",
        "\n",
        "contours, hierarchy = cv2.findContours(pre, cv2.RETR_TREE, cv2.CHAIN_APPROX_SIMPLE)\n",
        "\n",
        "# criar as caixas  que cricrundam os textso baseados no seu tamanho\n",
        "boxes = []\n",
        "for contour in contours:\n",
        "  box = cv2.boundingRect(contour)\n",
        "  h = box[3]\n",
        "  if min_text_height_limit < h < max_text_height_limit:\n",
        "    boxes.append(box)\n",
        "  \n",
        "boxes"
      ],
      "execution_count": null,
      "outputs": []
    },
    {
      "cell_type": "code",
      "metadata": {
        "id": "hwqNpaXpzq4Z"
      },
      "source": [
        "# Criar um lista de outerboxes\n",
        "def cria_lista_outerbox(box_list):\n",
        "  p1 = [0,0]\n",
        "  p2 = [0,0]\n",
        "  p3 = [0,0]\n",
        "  p4 = [0,0]\n",
        "  outerbox = []\n",
        "\n",
        "  for box in box_list:\n",
        "\n",
        "    p1[0] = box[0]\n",
        "    p1[1] = box[1]\n",
        "    p2[0] = box[0]+box[2]\n",
        "    p2[1] = box[1]\n",
        "    p3[0] = box[0] + box[2]\n",
        "    p3[1] = box[1] + box[3]\n",
        "    p4[0] = box[0] \n",
        "    p4[1] = box[1] + box[3]\n",
        "\n",
        "    outerbox.append([p1,p2,p3,p4])\n",
        "\n",
        "    p1 = [0,0]\n",
        "    p2 = [0,0]\n",
        "    p3 = [0,0]\n",
        "    p4 = [0,0]\n",
        "  return(outerbox)\n",
        "\n",
        "outerboxes = cria_lista_outerbox(boxes)"
      ],
      "execution_count": null,
      "outputs": []
    },
    {
      "cell_type": "code",
      "metadata": {
        "id": "JtO_YxaQxVJD"
      },
      "source": [
        "vis_boxes = img_only_texts.copy()\n",
        "\n",
        "def draw_outerboxes(image, bounds, color='yellow',width=3,contador=0):\n",
        "  draw = ImageDraw.Draw(image)\n",
        "  for bound in bounds:\n",
        "    p0, p1, p2, p3 = bound\n",
        "    draw.line([*p0, *p1, *p2, *p3, *p0], fill = color, width = width)  \n",
        "  return image\n",
        "\n",
        "draw_outerboxes(vis_boxes,outerboxes,color='blue')"
      ],
      "execution_count": null,
      "outputs": []
    },
    {
      "cell_type": "code",
      "metadata": {
        "id": "TUh4_U8i_mmA"
      },
      "source": [
        "#vasmo sobrepor a imagem as caixas que demostram a estutura inferida pela análise morfológica com a estutura obtida de caixas de txto obtida do ocr\n",
        "draw_boxes(vis_boxes,bounds,color='yellow')"
      ],
      "execution_count": null,
      "outputs": []
    },
    {
      "cell_type": "code",
      "metadata": {
        "id": "abzm5ihWDnEm"
      },
      "source": [
        "vis_boxes.save(variant_name + 'img_inv_outb_text.jpg')"
      ],
      "execution_count": null,
      "outputs": []
    },
    {
      "cell_type": "code",
      "metadata": {
        "id": "qKQ9eZ4D_Xrp"
      },
      "source": [
        "df_invoice = pd.DataFrame(data = bounds)\n",
        "df_invoice.columns = ['bounds','text','width']\n",
        "df_invoice[\"outerbox_number\"] = np.nan\n",
        "df_invoice[\"line\"] = np.nan\n",
        "df_invoice.head(10)"
      ],
      "execution_count": null,
      "outputs": []
    },
    {
      "cell_type": "code",
      "metadata": {
        "id": "2rkCcKKAHjln"
      },
      "source": [
        "outerboxes"
      ],
      "execution_count": null,
      "outputs": []
    },
    {
      "cell_type": "code",
      "metadata": {
        "id": "bTdKQR6YEuWG"
      },
      "source": [
        "from shapely.geometry import Point\n",
        "from shapely.geometry.polygon import Polygon\n",
        "\n",
        "def define_box_nmbr(innerbox):\n",
        "  box_nmbr = -1\n",
        "  q1,q2,q3,q4 = innerbox\n",
        "  p1 = Point(q1)\n",
        "  p2 = Point(q2)\n",
        "  p3 = Point(q3)\n",
        "  p4 = Point(q4)\n",
        "  for idx,box in enumerate(outerboxes):\n",
        "    polygon = Polygon(box)\n",
        "    if polygon.contains(p1) == True or polygon.contains(p2) == True or polygon.contains(p3) == True or polygon.contains(p4) == True:\n",
        "      box_nmbr = idx\n",
        "\n",
        "  return box_nmbr"
      ],
      "execution_count": null,
      "outputs": []
    },
    {
      "cell_type": "code",
      "metadata": {
        "id": "kkmis-YIFpBV"
      },
      "source": [
        "df_invoice[\"outerbox_number\"] = df_invoice['bounds'].apply(define_box_nmbr)\n",
        "#df_invoice.head(50)\n",
        "df_invoice[df_invoice[\"outerbox_number\"]>0]"
      ],
      "execution_count": null,
      "outputs": []
    },
    {
      "cell_type": "code",
      "metadata": {
        "id": "xWpnSpDOspyA"
      },
      "source": [
        "# Agora vamos adcionar a linha\n",
        "\n",
        "y_anterior = -1\n",
        "\n",
        "linha = 0\n",
        "for index, row in df_invoice.iterrows():\n",
        "#  print(y_anterior,p1[1])\n",
        "  p1,p2,p3,p4 = row['bounds']\n",
        "  if p1[1] > y_anterior   and y_anterior != -1:\n",
        "    y_anterior = p4[1]\n",
        "    linha = linha + 1\n",
        "    df_invoice.at[index,'line'] = int(linha)\n",
        "#    print('depois ' + str(linha) + str(p1))\n",
        "  elif y_anterior == -1:\n",
        "    y_anterior = p4[1]\n",
        "    linha = 1\n",
        "    df_invoice.at[index,'line'] = int(linha)\n",
        "#    print('primeiro ' + str(linha) + str(p1))\n",
        "  else: \n",
        "    df_invoice.at[index,'line'] = int(linha)\n",
        "    y_anterior = p4[1]\n",
        "    \n"
      ],
      "execution_count": null,
      "outputs": []
    },
    {
      "cell_type": "code",
      "metadata": {
        "id": "I3q9vllKiEm1"
      },
      "source": [
        "df_invoice.dtypes"
      ],
      "execution_count": null,
      "outputs": []
    },
    {
      "cell_type": "code",
      "metadata": {
        "id": "N0vwqAY2h17J"
      },
      "source": [
        "#Corrigindo o tipo da linha\n",
        "df_invoice[\"line\"] = df_invoice['line'].astype('int')"
      ],
      "execution_count": null,
      "outputs": []
    },
    {
      "cell_type": "code",
      "metadata": {
        "id": "JNgrNKqi3P7l"
      },
      "source": [
        "df_invoice.head(50)"
      ],
      "execution_count": null,
      "outputs": []
    },
    {
      "cell_type": "code",
      "metadata": {
        "id": "yJ1v7g8M4z3I"
      },
      "source": [
        "# Agora vamos começar a identificar os dados para extração de forma estruturada. Primimro passo será identifcar o grid de itens. \n",
        "# usaresmo três marcadores comuns a todas as invoices\n",
        "# - Os itens de uma invoice precisam ter a quantidade discrimnada\n",
        "# - Os itens de uma invoice precisam ter preço unitário\n",
        "# - os itens precisam ter um preço total calculado por cada item\n",
        "# Esses três pontos podem ser encontradso em qualquer invoice e morfologicamente o grid é uma estrutura um matriz de linhas por colunas em que\n",
        "# as linhas de cima são só cabeçalhos de itens e as debaixo são as linhas de item. Faremos isso primeiro identificando o numero da linha de cabeçalho (line).\n",
        "# de posse dessa linha de cabeçalho vamos obter as colunas que já foram agrupadas morfológicamente pelo itens outerbox como item que devem ser agrupados sob o mesmo rótulo\n",
        "\n",
        "from difflib import SequenceMatcher\n",
        "\n",
        "def ish1col(col_name):\n",
        "  type_of_column = np.nan\n",
        "  for qty_name in ['quantity','qty','quant','unit price','un price','unit pr','un pr','un px']:\n",
        "    if SequenceMatcher(None, qty_name, col_name.lower()).ratio()  > 0.9:\n",
        "      type_of_column = 'H1'\n",
        "  return type_of_column\n",
        "\n",
        "df_invoice['type'] = np.nan\n",
        "\n",
        "df_invoice['type'] = df_invoice['text'].apply(ish1col)\n"
      ],
      "execution_count": null,
      "outputs": []
    },
    {
      "cell_type": "code",
      "metadata": {
        "id": "BmiLsXxFAokv"
      },
      "source": [
        "df_is_h1 = df_invoice[df_invoice['type'] == 'H1']\n",
        "df_is_h1.head()"
      ],
      "execution_count": null,
      "outputs": []
    },
    {
      "cell_type": "code",
      "metadata": {
        "id": "db8FbGWncgkV"
      },
      "source": [
        "#pegando o número da linha e verificando se ele é um só\n",
        "df_invoice[df_invoice['type'] == 'H1']['line'].unique()"
      ],
      "execution_count": null,
      "outputs": []
    },
    {
      "cell_type": "code",
      "metadata": {
        "id": "lbU9uPXfcxz8"
      },
      "source": [
        "# Ok é um só vamos pegar o numero da linha\n",
        "header_grid_line = df_invoice[df_invoice['type'] == 'H1']['line'].unique()[0]\n",
        "print(header_grid_line) "
      ],
      "execution_count": null,
      "outputs": []
    },
    {
      "cell_type": "code",
      "metadata": {
        "id": "AUm-Mem4a9pB"
      },
      "source": [
        "#vasmo a aplicar a marcação cabeçalho de coluna em todas a linhas do grid\n",
        "def seth1(line):\n",
        "  if line == header_grid_line:\n",
        "    return 'H1'\n",
        "\n",
        "df_invoice['type'] = df_invoice['line'].apply(seth1) "
      ],
      "execution_count": null,
      "outputs": []
    },
    {
      "cell_type": "code",
      "metadata": {
        "id": "bsNEEZTBbx_L"
      },
      "source": [
        "df_invoice[df_invoice['type'] == 'H1']"
      ],
      "execution_count": null,
      "outputs": []
    },
    {
      "cell_type": "code",
      "metadata": {
        "id": "WXWDSHWCdOrZ"
      },
      "source": [
        "#agora vamos marcar os itens pelo número da caixa\n",
        "grid_outb_numbers = df_invoice[df_invoice['type'] == 'H1']['outerbox_number'].unique()\n",
        "grid_outb_numbers"
      ],
      "execution_count": null,
      "outputs": []
    },
    {
      "cell_type": "code",
      "metadata": {
        "id": "kCd_MXUHeWn-"
      },
      "source": [
        "\n",
        "def set_h2(row):\n",
        "  if row[3] != -1:\n",
        "    if row[3] in grid_outb_numbers and row[4] != header_grid_line:\n",
        "      return 'H2'\n",
        "    elif row[3] in grid_outb_numbers and row[4] == header_grid_line:\n",
        "      return 'H1'\n",
        "  else:\n",
        "    if row[3] in grid_outb_numbers and row[4] == header_grid_line+1:\n",
        "      return 'H2'\n",
        "    elif row[3] in grid_outb_numbers and row[4] == header_grid_line:\n",
        "      return 'H1'\n",
        "    \n",
        "\n",
        "def seth1_2(outbnumber):\n",
        "  if outbnumber in grid_outb_numbers:\n",
        "    return 'H1'\n",
        "#df_invoice['type'] = df_invoice['outerbox_number'].apply(seth1_2) \n",
        "df_invoice['type'] = df_invoice.apply(set_h2,axis = 1) \n"
      ],
      "execution_count": null,
      "outputs": []
    },
    {
      "cell_type": "code",
      "metadata": {
        "id": "rSBtbm92gkpF"
      },
      "source": [
        "df_invoice[df_invoice['type'] == 'H2']\n"
      ],
      "execution_count": null,
      "outputs": []
    },
    {
      "cell_type": "code",
      "metadata": {
        "id": "QrizRNiuhtid"
      },
      "source": [
        "#Vamos vasmo buscar as outras informações que são dos nosso interesse, são elas:\n",
        "\n",
        "\n",
        "# - Número da invoice.\n",
        "# - Comprador do produto.\n",
        "# - Consignatário (responsável pela guarda do produto até que ele seja entregue ao cliente)\n",
        "# - FOB (termo comercial que se refere ao preço do produto sem acréscimo de frete e seguro)\n",
        "# - Frete.\n",
        "# - Seguro.\n",
        "# - Valor total da invoice\n",
        "# - Data de missão da invoice\n",
        "# - Companhia emitente da invoice.\n",
        "\n",
        "# Número da invoice, Comprador,Consignatário,Companhia emitente da invoice e Data de missão da invoice ficam sempre na priemria parte da invoice antes do grid\n",
        "#FOB , Frete e Seguro ficam na segunda parte da invoice abaixo do grid \n",
        "\n",
        "# Vamos quebrar o data frame original em três partes para que possamos analisar as informações\n",
        "\n",
        "\n"
      ],
      "execution_count": null,
      "outputs": []
    },
    {
      "cell_type": "code",
      "metadata": {
        "id": "5U5AtJSQPFmP"
      },
      "source": [
        "#splitanda a primera parte \n",
        "corte_1 = df_invoice[df_invoice['type'] == 'H1'].index[0] \n",
        "corte_1"
      ],
      "execution_count": null,
      "outputs": []
    },
    {
      "cell_type": "code",
      "metadata": {
        "id": "RG0OyIzMRvw0"
      },
      "source": [
        "df_invoice1 = df_invoice.loc[0:corte_1]\n",
        "df_invoice1.tail()"
      ],
      "execution_count": null,
      "outputs": []
    },
    {
      "cell_type": "code",
      "metadata": {
        "id": "_pO3Q-dZSMoD"
      },
      "source": [
        "len_grid = len(df_invoice[df_invoice['type'] == 'H1']) + len(df_invoice[df_invoice['type'] == 'H2'])\n",
        "len_grid"
      ],
      "execution_count": null,
      "outputs": []
    },
    {
      "cell_type": "code",
      "metadata": {
        "id": "uNNi0GLxVDmq"
      },
      "source": [
        "df_invoice2 = df_invoice.loc[corte_1+len_grid:]\n",
        "df_invoice2.head()"
      ],
      "execution_count": null,
      "outputs": []
    },
    {
      "cell_type": "code",
      "metadata": {
        "id": "W4xhVADkVsJb"
      },
      "source": [
        "df_invoice_grid  = df_invoice.iloc[corte_1:corte_1+len_grid]\n",
        "df_invoice_grid.tail(20)"
      ],
      "execution_count": null,
      "outputs": []
    },
    {
      "cell_type": "code",
      "metadata": {
        "id": "bcLey_e08Q0O"
      },
      "source": [
        "nbr_grid_columns = df_invoice_grid['type'].value_counts()\n",
        "nbr_grid_columns"
      ],
      "execution_count": null,
      "outputs": []
    },
    {
      "cell_type": "code",
      "metadata": {
        "id": "8e8GVXvBAlSI"
      },
      "source": [
        "# número de colunas do cabeçalho\n",
        "nbr_gri_columns_header = nbr_grid_columns[nbr_grid_columns.keys() == 'H1'][0]\n",
        "nbr_gri_columns_header"
      ],
      "execution_count": null,
      "outputs": []
    },
    {
      "cell_type": "code",
      "metadata": {
        "id": "ndahpffvUSJ8"
      },
      "source": [
        "# número de linhas do grid\n",
        "nbr_grid_lines = len(df_invoice_grid['line'].unique())"
      ],
      "execution_count": null,
      "outputs": []
    },
    {
      "cell_type": "code",
      "metadata": {
        "id": "Yzm74mzMUSs_"
      },
      "source": [
        "nbr_grid_lines"
      ],
      "execution_count": null,
      "outputs": []
    },
    {
      "cell_type": "code",
      "metadata": {
        "id": "f5QrBxI6US4h"
      },
      "source": [
        "# vamos criar um matriz multidimensional para gaurdar o grid mas antes vamos verificar se a opencv conseguiu agrupar as colunas do grid\n",
        "if df_invoice_grid['outerbox_number'].unique()[0] == -1:\n",
        "  flag_no_outerbox_cols = 'X'\n",
        "else:\n",
        "  flag_no_outerbox_cols = ''\n",
        "flag_no_outerbox_cols"
      ],
      "execution_count": null,
      "outputs": []
    },
    {
      "cell_type": "code",
      "metadata": {
        "id": "FnnO6LBBUS7e"
      },
      "source": [
        "grid_matrix = [['']*nbr_gri_columns_header for i in ['']*nbr_grid_lines]\n",
        "grid_matrix"
      ],
      "execution_count": null,
      "outputs": []
    },
    {
      "cell_type": "code",
      "metadata": {
        "id": "tYwYNYJaUS-H"
      },
      "source": [
        "#pegando as colunas do grid\n",
        "arr_grid = df_invoice_grid['text'].to_numpy()\n",
        "for i in range(nbr_gri_columns_header):\n",
        "  grid_matrix[0][i] = arr_grid[i]\n",
        "\n",
        "print(grid_matrix)\n",
        " "
      ],
      "execution_count": null,
      "outputs": []
    },
    {
      "cell_type": "code",
      "metadata": {
        "id": "nHIsjFHzxHiz"
      },
      "source": [
        "nbr_gri_columns_header"
      ],
      "execution_count": null,
      "outputs": []
    },
    {
      "cell_type": "code",
      "metadata": {
        "id": "y-6-Xlj1t0Wa"
      },
      "source": [
        "arr_i_grid =df_invoice_grid.to_numpy()\n",
        "arr_i_grid = np.delete(arr_i_grid, np.s_[0:nbr_gri_columns_header], axis = 0)  \n",
        "arr_i_grid = np.delete(arr_i_grid, 0, axis = 1)  \n",
        "arr_i_grid = np.delete(arr_i_grid, 1, axis = 1)\n",
        "arr_i_grid = np.delete(arr_i_grid, 3, axis = 1)\n",
        "arr_i_grid"
      ],
      "execution_count": null,
      "outputs": []
    },
    {
      "cell_type": "code",
      "metadata": {
        "id": "Eq7ypAl11_BZ"
      },
      "source": [
        "if flag_no_outerbox_cols != 'X': # caso a opencv não tenha conseguido detectat as colunas do grid\n",
        "\n",
        "  b = -1\n",
        "  l = -1\n",
        "  txt_anterior = ''\n",
        "  delete_lines = []\n",
        "  for idx,line in enumerate(arr_i_grid):\n",
        "    if line[1] == b and l == line[2]:\n",
        "  #    print(str(line[1]) + '- ' + str( line[2]))\n",
        "  #    print(idx)\n",
        "      line[0] = txt_anterior + ' ' + line[0]\n",
        "      delete_lines.append(idx-1)\n",
        "  #    arr_i_grid = np.delete(arr_i_grid, idx - 1, axis = 0) \n",
        "    b = line[1]\n",
        "    l = line[2]\n",
        "    txt_anterior = line[0]\n",
        "\n",
        "  arr_i_grid"
      ],
      "execution_count": null,
      "outputs": []
    },
    {
      "cell_type": "code",
      "metadata": {
        "id": "fVQyuRV48FNC"
      },
      "source": [
        "if flag_no_outerbox_cols != 'X':\n",
        "  delete_lines"
      ],
      "execution_count": null,
      "outputs": []
    },
    {
      "cell_type": "code",
      "metadata": {
        "id": "dB8JQdTR6207"
      },
      "source": [
        "if flag_no_outerbox_cols != 'X':\n",
        "  arr_i_grid = np.delete(arr_i_grid, delete_lines, axis = 0)\n",
        "  arr_i_grid"
      ],
      "execution_count": null,
      "outputs": []
    },
    {
      "cell_type": "code",
      "metadata": {
        "id": "Qcuyh0V7_BrM"
      },
      "source": [
        "#pegando as linhas\n",
        "if flag_no_outerbox_cols != 'X':\n",
        "  arr_i_grid = np.delete(arr_i_grid, [1,2], axis = 1)\n",
        "\n",
        "  arr_i_grid"
      ],
      "execution_count": null,
      "outputs": []
    },
    {
      "cell_type": "code",
      "metadata": {
        "id": "E7jCrFFfB5aA"
      },
      "source": [
        "#pegando as colunas do grid\n",
        "#arr_grid = df_invoice_grid['text'].to_numpy()\n",
        "k = 0\n",
        "arr_i_grid_list = arr_i_grid.tolist()\n",
        "for i in range(1,nbr_grid_lines):  \n",
        "  for j in range(nbr_gri_columns_header):\n",
        "    grid_matrix[i][j] = arr_i_grid_list[k][0]\n",
        "    k = k + 1\n",
        "\n",
        "grid_matrix\n"
      ],
      "execution_count": null,
      "outputs": []
    },
    {
      "cell_type": "code",
      "metadata": {
        "id": "bDAdiESHUTAw"
      },
      "source": [
        "df_grid = pd.DataFrame(data = grid_matrix)\n",
        "df_grid.columns = df_grid.iloc[0]\n",
        "df_grid = df_grid[1:]\n",
        "df_grid.head()\n"
      ],
      "execution_count": null,
      "outputs": []
    },
    {
      "cell_type": "code",
      "metadata": {
        "id": "l06ynNcXNoEC"
      },
      "source": [
        "#Agora utilizaremos o NLTK para obter as ocorrêcias dos valores que nos interessam nas partes de cabeçalho anterios e psoterios da invoice.\n",
        "#Primeiro iremos concatenar os todos da prte da cima da invvoice em um unico grande texto dividiso por cada linhas. Entretanto, se houve um caixa de texto identificada pelo OCr\n",
        "#vamos concatenar essa caixa como um texto em uma única linha\n",
        "df_invoice1.head()\n",
        "\n"
      ],
      "execution_count": null,
      "outputs": []
    },
    {
      "cell_type": "code",
      "metadata": {
        "id": "n9JCiCGV9fVT"
      },
      "source": [
        "inv_header_text = '. '.join(df_invoice1.groupby(['line','outerbox_number'])['text'].apply(' '.join).array)\n",
        "print(inv_header_text)"
      ],
      "execution_count": null,
      "outputs": []
    },
    {
      "cell_type": "code",
      "metadata": {
        "id": "xE2vJXZD9HhC"
      },
      "source": [
        "w_h_tokens = nltk.word_tokenize(inv_header_text)\n",
        "w_h_tokens\n"
      ],
      "execution_count": null,
      "outputs": []
    },
    {
      "cell_type": "code",
      "metadata": {
        "id": "ZwoKLdcwdXOe"
      },
      "source": [
        "p_w_h_tokens = nltk.pos_tag(w_h_tokens)\n",
        "p_w_h_tokens"
      ],
      "execution_count": null,
      "outputs": []
    },
    {
      "cell_type": "code",
      "metadata": {
        "id": "YI_MIBxfotD0"
      },
      "source": [
        "from difflib import SequenceMatcher\n",
        "\n",
        "#Essa função será usada paras os caso simples de par chave e valor: são eles numero da invoice, FOB, Freight, FOB, Insurance, Fob+Taxes, Total Ammount\n",
        "\n",
        "def find_values_text(p_w_h_tokens,invoice_field,pos_tag = 'CD'):\n",
        "\n",
        "  invoice_candidate_values = []\n",
        "  invoice_candidate_fields = []\n",
        "  invoice_results = []\n",
        "  for i, (word, pos) in enumerate(p_w_h_tokens):\n",
        "  #    if(pos == 'NNP'):\n",
        "      if SequenceMatcher(None, invoice_field, word.lower()).ratio()  > 0.9:\n",
        "  #            print(str(i) + '-' + word)\n",
        "           invoice_candidate_fields.append([i,word,pos])\n",
        "      if (pos == pos_tag):\n",
        "        invoice_candidate_values.append([i,word,pos])\n",
        "  #      print(str(i) + '-' + word)\n",
        "#  print(invoice_candidate_fields)\n",
        "#  print(invoice_candidate_values)\n",
        "\n",
        "  #vasmo pegar a referência e a invoice de menor distancia entre eles\n",
        "  for fields in invoice_candidate_fields:\n",
        "    f_idx,f_word,f_pos = fields\n",
        "    for values in invoice_candidate_values:\n",
        "      v_idx,v_word,v_pos = values\n",
        "      distance = v_idx - f_idx \n",
        "      if distance > 0:\n",
        "        invoice_results.append([f_idx,f_word,f_pos,v_idx,v_word,v_pos,distance])\n",
        "  invoice_results = sorted(invoice_results,key=lambda x: x[6])\n",
        "  return invoice_results\n",
        "\n",
        "invoice_analisis = find_values_text(p_w_h_tokens,'invoice')\n",
        "print(invoice_analisis)\n"
      ],
      "execution_count": null,
      "outputs": []
    },
    {
      "cell_type": "code",
      "metadata": {
        "id": "VbJUGdvksbv9"
      },
      "source": [
        "#Vamos começar a montar o dataframe\n",
        "if len(invoice_analisis) > 0:\n",
        "#ecnontrou candidatos? se sim vasmo criar pegar o primeiro resultado   \n",
        "  invoice_name  = invoice_analisis[0][1]\n",
        "  invoice_value = invoice_analisis[0][4]\n",
        "  df_invoice_header =  pd.DataFrame(data = {invoice_name:[invoice_value]})\n",
        "else:\n",
        "  df_invoice_header =  pd.DataFrame(data = {'Invoice':['']})\n",
        "\n",
        "df_invoice_header.head()\n"
      ],
      "execution_count": null,
      "outputs": []
    },
    {
      "cell_type": "code",
      "metadata": {
        "id": "jCDxjV6hYTsB"
      },
      "source": [
        "invoice_analisis = find_values_text(p_w_h_tokens,'buyer','NNP')\n",
        "print(invoice_analisis)"
      ],
      "execution_count": null,
      "outputs": []
    },
    {
      "cell_type": "code",
      "metadata": {
        "id": "ch93-mc9ZTyx"
      },
      "source": [
        "if len(invoice_analisis) > 0:\n",
        "#ecnontrou candidatos? se sim para o caso do buyer vamos pegar o oids primeiros nomes\n",
        "  buyer_name  = invoice_analisis[0][1] \n",
        "  buyer_value = invoice_analisis[0][4] + ' ' + invoice_analisis[1][4]\n",
        "  df_invoice_header[buyer_name] =  buyer_value\n",
        "else:\n",
        "  df_invoice_header['Buyer'] =  ''\n",
        "\n",
        "df_invoice_header.head()"
      ],
      "execution_count": null,
      "outputs": []
    },
    {
      "cell_type": "code",
      "metadata": {
        "id": "ZMDIMcvpabvi"
      },
      "source": [
        "invoice_analisis = find_values_text(p_w_h_tokens,'consignee','NNP')\n",
        "print(invoice_analisis)"
      ],
      "execution_count": null,
      "outputs": []
    },
    {
      "cell_type": "code",
      "metadata": {
        "id": "RzSID4GFacCz"
      },
      "source": [
        "if len(invoice_analisis) > 0:\n",
        "#ecnontrou candidatos? se sim para o caso do consignee vamos pegar o oids primeiros nomes\n",
        "  conignee_name  = invoice_analisis[0][1] \n",
        "  conignee_value = invoice_analisis[0][4] + ' ' + invoice_analisis[1][4]\n",
        "  df_invoice_header[conignee_name] =  conignee_value\n",
        "else:\n",
        "  df_invoice_header['Consignee'] =  ''\n",
        "\n",
        "df_invoice_header.head()"
      ],
      "execution_count": null,
      "outputs": []
    },
    {
      "cell_type": "code",
      "metadata": {
        "id": "-dmQx7FM1VlP"
      },
      "source": [
        "inv_bottom_text = '. '.join(df_invoice2.groupby(['line','outerbox_number'])['text'].apply(' '.join).array)\n",
        "print(inv_bottom_text)"
      ],
      "execution_count": null,
      "outputs": []
    },
    {
      "cell_type": "code",
      "metadata": {
        "id": "_m3tKRaA1VxR"
      },
      "source": [
        "w_b_tokens = nltk.word_tokenize(inv_bottom_text)\n",
        "w_b_tokens"
      ],
      "execution_count": null,
      "outputs": []
    },
    {
      "cell_type": "code",
      "metadata": {
        "id": "PjT0xcQz1V8V"
      },
      "source": [
        "p_w_b_tokens = nltk.pos_tag(w_b_tokens)\n",
        "p_w_b_tokens"
      ],
      "execution_count": null,
      "outputs": []
    },
    {
      "cell_type": "code",
      "metadata": {
        "id": "_Glr-AeaxE7o"
      },
      "source": [
        "invoice_analisis = find_values_text(p_w_b_tokens,'fob')\n",
        "print(invoice_analisis)"
      ],
      "execution_count": null,
      "outputs": []
    },
    {
      "cell_type": "code",
      "metadata": {
        "id": "l4Na2yLjxTSI"
      },
      "source": [
        "\n",
        "if len(invoice_analisis) > 0:\n",
        "#ecnontrou candidatos? se sim vasmo criar pegar o primeiro resultado   \n",
        "  fob_name  = invoice_analisis[0][1]\n",
        "  fob_value = invoice_analisis[0][4]\n",
        "  df_invoice_header[fob_name] =  fob_value\n",
        "else:\n",
        "  df_invoice_header['FOB'] =  ''\n",
        "\n",
        "df_invoice_header.head()"
      ],
      "execution_count": null,
      "outputs": []
    },
    {
      "cell_type": "code",
      "metadata": {
        "id": "_FjyRxZ3UZ92"
      },
      "source": [
        "invoice_analisis = find_values_text(p_w_b_tokens,'freight')\n",
        "print(invoice_analisis)"
      ],
      "execution_count": null,
      "outputs": []
    },
    {
      "cell_type": "code",
      "metadata": {
        "id": "vs_xzC7jUfmw"
      },
      "source": [
        "if len(invoice_analisis) > 0:\n",
        "#ecnontrou candidatos? se sim vasmo criar pegar o primeiro resultado   \n",
        "  freight_name  = invoice_analisis[0][1]\n",
        "  freight_value = invoice_analisis[0][4]\n",
        "  df_invoice_header[freight_name] =  freight_value\n",
        "else:\n",
        "  df_invoice_header['Freight'] =  ''\n",
        "\n",
        "df_invoice_header.head()"
      ],
      "execution_count": null,
      "outputs": []
    },
    {
      "cell_type": "code",
      "metadata": {
        "id": "oYnLx5XmVDrV"
      },
      "source": [
        "invoice_analisis = find_values_text(p_w_b_tokens,'insurance')\n",
        "print(invoice_analisis)"
      ],
      "execution_count": null,
      "outputs": []
    },
    {
      "cell_type": "code",
      "metadata": {
        "id": "mT9lW_qDVHh1"
      },
      "source": [
        "if len(invoice_analisis) > 0:\n",
        "#ecnontrou candidatos? se sim vasmo criar pegar o primeiro resultado   \n",
        "  insurance_name  = invoice_analisis[0][1]\n",
        "  insurance_value = invoice_analisis[0][4]\n",
        "  df_invoice_header[insurance_name] =  insurance_value\n",
        "else:\n",
        "  df_invoice_header['Insurance'] =  ''\n",
        "\n",
        "df_invoice_header.head()"
      ],
      "execution_count": null,
      "outputs": []
    },
    {
      "cell_type": "code",
      "metadata": {
        "id": "6ATyCRSEW1D6"
      },
      "source": [
        "invoice_analisis = find_values_text(p_w_b_tokens,'taxes')\n",
        "print(invoice_analisis)"
      ],
      "execution_count": null,
      "outputs": []
    },
    {
      "cell_type": "code",
      "metadata": {
        "id": "IrZX73RaWV5V"
      },
      "source": [
        "invoice_analisis = find_values_text(p_w_b_tokens,'total')\n",
        "print(invoice_analisis)"
      ],
      "execution_count": null,
      "outputs": []
    },
    {
      "cell_type": "code",
      "metadata": {
        "id": "oYJV_7B0WjLJ"
      },
      "source": [
        "if len(invoice_analisis) > 0:\n",
        "#ecnontrou candidatos? se sim vasmo criar pegar o primeiro resultado   \n",
        "  total_name  = invoice_analisis[0][1]\n",
        "  total_value = invoice_analisis[0][4]\n",
        "  df_invoice_header[total_name] =  total_value\n",
        "else:\n",
        "  df_invoice_header['Total'] =  ''\n",
        "\n",
        "df_invoice_header.head()"
      ],
      "execution_count": null,
      "outputs": []
    },
    {
      "cell_type": "code",
      "metadata": {
        "id": "izsWKOilbuHc"
      },
      "source": [
        "df_invoice_header.head()"
      ],
      "execution_count": null,
      "outputs": []
    },
    {
      "cell_type": "code",
      "metadata": {
        "id": "OCZCCqORlGUs"
      },
      "source": [
        "invoice_analisis = find_values_text(p_w_h_tokens,'date')\n",
        "print(invoice_analisis)"
      ],
      "execution_count": null,
      "outputs": []
    },
    {
      "cell_type": "code",
      "metadata": {
        "id": "9ORLhqTAz1Fe"
      },
      "source": [
        "# Vasmo utilizar a biblioteca spacy para obter a data da invoice (data de emissão )\n",
        "nlp = spacy.load(\"en\")\n",
        "\n",
        "doc_header_invoice = nlp(inv_header_text)\n",
        "header_entities =  [(i,i.label_, i.label) for i in doc_header_invoice.ents]\n",
        "header_entities"
      ],
      "execution_count": null,
      "outputs": []
    },
    {
      "cell_type": "code",
      "metadata": {
        "id": "pZia2Pjd2xy1"
      },
      "source": [
        "#Conforme observação da maioria das invoices a data ocorre logo no início sendo assim vasmo pegar a primeira data que aparece na invoice\n",
        "\n",
        "for index, entity in enumerate(header_entities):\n",
        "  if entity[1] == 'DATE':\n",
        "    invoice_date = str(entity[0])\n",
        "\n",
        "print(invoice_date)"
      ],
      "execution_count": null,
      "outputs": []
    },
    {
      "cell_type": "code",
      "metadata": {
        "id": "9Ctmhiu00eRO"
      },
      "source": [
        "#encontrou candidatos? se sim vamos pegar o primeiro resultado   \n",
        "df_invoice_header[\"Invoice Date\"] = invoice_date\n",
        "\n",
        "df_invoice_header.head()"
      ],
      "execution_count": null,
      "outputs": []
    },
    {
      "cell_type": "code",
      "metadata": {
        "id": "m2ONoEr_nVOg"
      },
      "source": [
        "#para o emitente da invocie utilizaremos uma outra regra:\n",
        "#- Vasmo concatenar as três primeiras linhas e vamos procurar os trigramas que terminam com um das seguintes abreviações que indicam empresa: ltd, gmbh, bv, sa, , inc\n",
        "\n",
        "df_invoice_3lines =  df_invoice1[df_invoice1['line'] <= 3]\n",
        "text_3_lines  = '. '.join(df_invoice_3lines.groupby(['line','outerbox_number'])['text'].apply(' '.join).array)\n",
        "print(text_3_lines) \n"
      ],
      "execution_count": null,
      "outputs": []
    },
    {
      "cell_type": "code",
      "metadata": {
        "id": "NnpKraoSskLN"
      },
      "source": [
        "w_3_tokens = nltk.word_tokenize(text_3_lines)\n",
        "#p_3_tokens = nltk.pos_tag(w_3_tokens)\n",
        "w_3_tokens\n"
      ],
      "execution_count": null,
      "outputs": []
    },
    {
      "cell_type": "code",
      "metadata": {
        "id": "2eBDFr70tJhK"
      },
      "source": [
        " company_trigrams =  nltk.trigrams(w_3_tokens)\n",
        " company_suffixes = ['ltd', 'gmbh', 'bv', 'sa','inc','company','b.v.']\n",
        " company_candidates = []\n",
        "\n",
        " for trigrama in company_trigrams:\n",
        "    if trigrama[2].lower() in company_suffixes:\n",
        "      company_candidates.append(trigrama[0] + ' ' + trigrama[1] + ' ' + trigrama[2])\n",
        "    print(trigrama)\n",
        "company_candidates"
      ],
      "execution_count": null,
      "outputs": []
    },
    {
      "cell_type": "code",
      "metadata": {
        "id": "KGU7rd99y2pu"
      },
      "source": [
        "if len(company_candidates) > 0:\n",
        "#ecnontrou candidatos? se sim vamos pegar o primeiro resultado   \n",
        "  company_name  = 'Company'\n",
        "  company_value = company_candidates[0]\n",
        "  df_invoice_header[company_name] =  company_value\n",
        "else:\n",
        "  df_invoice_header[company_name] =  ''\n",
        "\n",
        "df_invoice_header.head()"
      ],
      "execution_count": null,
      "outputs": []
    },
    {
      "cell_type": "code",
      "metadata": {
        "id": "hNxzBndi2dNO"
      },
      "source": [
        "drive.mount('/content/drive')\n",
        "os.chdir(workdir_path)\n",
        "df_invoice_header.to_csv(variant_name + 'header.csv')\n",
        "df_grid.to_csv(variant_name + 'grid.csv')"
      ],
      "execution_count": null,
      "outputs": []
    }
  ]
}